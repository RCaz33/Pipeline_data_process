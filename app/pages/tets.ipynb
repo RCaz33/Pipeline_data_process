{
 "cells": [
  {
   "cell_type": "code",
   "execution_count": 2,
   "metadata": {},
   "outputs": [
    {
     "name": "stdout",
     "output_type": "stream",
     "text": [
      "\u001b[0m\u001b[01;34mCW_Network\u001b[0m/  \u001b[01;34mc\u001b[0m/  \u001b[30;42mwsl\u001b[0m/  \u001b[30;42mwslg\u001b[0m/\n"
     ]
    }
   ],
   "source": [
    "ls /mnt"
   ]
  }
 ],
 "metadata": {
  "kernelspec": {
   "display_name": "CW_DataScience",
   "language": "python",
   "name": "python3"
  },
  "language_info": {
   "codemirror_mode": {
    "name": "ipython",
    "version": 3
   },
   "file_extension": ".py",
   "mimetype": "text/x-python",
   "name": "python",
   "nbconvert_exporter": "python",
   "pygments_lexer": "ipython3",
   "version": "3.12.5"
  }
 },
 "nbformat": 4,
 "nbformat_minor": 2
}
